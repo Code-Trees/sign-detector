{
 "cells": [
  {
   "cell_type": "markdown",
   "id": "55968126-e63f-4b5f-8383-1842b53d1c9c",
   "metadata": {},
   "source": [
    "### Enabling Interactive Shell "
   ]
  },
  {
   "cell_type": "code",
   "execution_count": 1,
   "id": "fe4801a0-1829-4d53-b100-bbe6c2d17dff",
   "metadata": {},
   "outputs": [],
   "source": [
    "from IPython.core.interactiveshell import InteractiveShell\n",
    "InteractiveShell.ast_node_interactivity = 'all'"
   ]
  },
  {
   "cell_type": "markdown",
   "id": "fb6cec00-de85-40a6-88aa-9316f4a5985f",
   "metadata": {},
   "source": [
    "### Some important Library"
   ]
  },
  {
   "cell_type": "code",
   "execution_count": 2,
   "id": "cf3f28b7-e74b-40a4-86b2-2abd2ee9d3fc",
   "metadata": {},
   "outputs": [],
   "source": [
    "import argparse\n",
    "import time\n",
    "from pathlib import Path\n",
    "\n",
    "import cv2\n",
    "import torch\n",
    "import torch.backends.cudnn as cudnn\n",
    "from numpy import random\n",
    "\n",
    "from models.experimental import attempt_load\n",
    "from utils.datasets import LoadStreams, LoadImages\n",
    "from utils.general import check_img_size, check_requirements, check_imshow, non_max_suppression, apply_classifier, \\\n",
    "    scale_coords, xyxy2xywh, strip_optimizer, set_logging, increment_path, save_one_box\n",
    "from utils.plots import colors, plot_one_box\n",
    "from utils.torch_utils import select_device, load_classifier, time_synchronized"
   ]
  },
  {
   "cell_type": "markdown",
   "id": "83c3ef10-1bd7-4db5-acc1-5fa2692a422f",
   "metadata": {},
   "source": [
    "### Torch Moduls for Model Calculation"
   ]
  },
  {
   "cell_type": "code",
   "execution_count": 3,
   "id": "9a02e645-afe4-4cd4-93de-834bf1749226",
   "metadata": {},
   "outputs": [],
   "source": [
    "from torchsummary import summary\n",
    "from rf_calc import receptive_field\n",
    "%matplotlib inline\n",
    "import matplotlib.pyplot as plt"
   ]
  },
  {
   "cell_type": "code",
   "execution_count": null,
   "id": "353a40e3-4b5f-439d-b061-2f4ea98ff4e6",
   "metadata": {},
   "outputs": [],
   "source": []
  },
  {
   "cell_type": "markdown",
   "id": "34233ae8-b9e9-499f-b7d2-d8a5c5d25035",
   "metadata": {},
   "source": [
    "### Meta Function to detect signature"
   ]
  },
  {
   "cell_type": "code",
   "execution_count": 4,
   "id": "503c2686-212d-4cd5-af80-704300897451",
   "metadata": {},
   "outputs": [
    {
     "data": {
      "text/plain": [
       "'  Take input from user . Can be tuned as per requirement\\nEx: \\n\\n    \\'weights\\': \\'Trained model Weights . Generally a .pt file. WE can still use Custom models after trainning\\'\\n\\'source\\': \\'Image path . Generally local computer path where image is located\\'\\n\\'img_size\\': \"Input resolution of image want to work on\\n\\'conf_thres\\':\" Confident threshold of objectness parameter for anchorboxes, Generally a flot range 0 to 1\"\\n\\'iou_thres\\': \"intersection over unit threshold matrix \",\\n\\'device\\': \\'GPU incase of trainning , CPU incase of infrencing\\',\\n\\'view_img\\': \"Incase want to view the image in notebook . Type = Bool: True,False\"\\n\\'save_txt\\': \"Bonding Box location, hight , weidth location etc .Type = Bool: True,False\",\\n\\'save_conf\\': \"Save the model trainning parameters. Not usefull for user . Type = Bool: True,False\"\\n\\'save_crop\\': \"True if you we want to save the cropped signature ,else False.Type = Bool: True,False\"\\n\\'nosave\\': \"Save the model trainning parameters. Not usefull for user . Type = Bool: True,False\",\\n\\'classes\\': 1,\"The number of class n this specific problem this is 1 as we only detecting Signatures.It have direct effect on models o/p matrix \"\\n\\'agnostic_nms\\': \"model trainning parameters. Not usefull for user . Type = Bool: True,False\"\",\\n\\'augment\\': \"model trainning parameters. Not usefull for user . Type = Bool: True,False\"\",\\n\\'update\\': \"model trainning parameters. Not usefull for user . Type = Bool: True,False\",\\n\\'project\\': \\'./\\', \"Where you want to save the o/p folder (inside Local)\"\"\\n\\'name\\': \" Name of image Formate from YOLO model \"\\n\\'exist_ok\\': \"model trainning parameters. Not usefull for user . Type = Bool: True,False\",,\\n\\'line_thickness\\': \"model trainning parameters. Not usefull for user . Type = int\",,\\n\\'hide_labels\\': \"model trainning parameters. Not usefull for user . Type = Bool: True,False\",,\\n\\'hide_conf\\': \"model trainning parameters. Not usefull for user . Type = Bool: True,False\",\\n\\n'"
      ]
     },
     "execution_count": 4,
     "metadata": {},
     "output_type": "execute_result"
    }
   ],
   "source": [
    "\"\"\"  Take input from user . Can be tuned as per requirement\n",
    "Ex: \n",
    "\n",
    "    'weights': 'Trained model Weights . Generally a .pt file. WE can still use Custom models after trainning'\n",
    "'source': 'Image path . Generally local computer path where image is located'\n",
    "'img_size': \"Input resolution of image want to work on\n",
    "'conf_thres':\" Confident threshold of objectness parameter for anchorboxes, Generally a flot range 0 to 1\"\n",
    "'iou_thres': \"intersection over unit threshold matrix \",\n",
    "'device': 'GPU incase of trainning , CPU incase of infrencing',\n",
    "'view_img': \"Incase want to view the image in notebook . Type = Bool: True,False\"\n",
    "'save_txt': \"Bonding Box location, hight , weidth location etc .Type = Bool: True,False\",\n",
    "'save_conf': \"Save the model trainning parameters. Not usefull for user . Type = Bool: True,False\"\n",
    "'save_crop': \"True if you we want to save the cropped signature ,else False.Type = Bool: True,False\"\n",
    "'nosave': \"Save the model trainning parameters. Not usefull for user . Type = Bool: True,False\",\n",
    "'classes': 1,\"The number of class n this specific problem this is 1 as we only detecting Signatures.It have direct effect on models o/p matrix \"\n",
    "'agnostic_nms': \"model trainning parameters. Not usefull for user . Type = Bool: True,False\"\",\n",
    "'augment': \"model trainning parameters. Not usefull for user . Type = Bool: True,False\"\",\n",
    "'update': \"model trainning parameters. Not usefull for user . Type = Bool: True,False\",\n",
    "'project': './', \"Where you want to save the o/p folder (inside Local)\"\"\n",
    "'name': \" Name of image Formate from YOLO model \"\n",
    "'exist_ok': \"model trainning parameters. Not usefull for user . Type = Bool: True,False\",,\n",
    "'line_thickness': \"model trainning parameters. Not usefull for user . Type = int\",,\n",
    "'hide_labels': \"model trainning parameters. Not usefull for user . Type = Bool: True,False\",,\n",
    "'hide_conf': \"model trainning parameters. Not usefull for user . Type = Bool: True,False\",\n",
    "\n",
    "\"\"\""
   ]
  },
  {
   "cell_type": "code",
   "execution_count": 8,
   "id": "c9dd2b4c-61f9-416e-a0e6-02f1cc3104eb",
   "metadata": {},
   "outputs": [],
   "source": [
    "def detect(image_path):\n",
    "    opt = {\n",
    "    'weights': './best.pt',\n",
    "    'source': image_path,\n",
    "    'img_size': 640,\n",
    "    'conf_thres': 0.25,\n",
    "    'iou_thres': 0.45,\n",
    "    'device': '',\n",
    "    'view_img': False,\n",
    "    'save_txt': False,\n",
    "    'save_conf': True,\n",
    "    'save_crop': True,\n",
    "    'nosave': False,\n",
    "    'classes': 1,\n",
    "    'agnostic_nms': False,\n",
    "    'augment': False,\n",
    "    'update': False,\n",
    "    'project': './', # Where you want to save the o/p folder (inside Local / signify network)\n",
    "    'name': str(image_path.split('.')[0]),\n",
    "    'exist_ok': False,\n",
    "    'line_thickness': 3,\n",
    "    'hide_labels': False,\n",
    "    'hide_conf': False,}\n",
    "    \n",
    "    source, weights, view_img, save_txt, imgsz = opt['source'], opt['weights'], opt['view_img'], opt['save_txt'], opt['img_size']\n",
    "    # Directories\n",
    "    save_dir = increment_path(Path(opt['project']) / opt['name'], exist_ok=opt['exist_ok'])  # increment run\n",
    "    (save_dir / 'labels' if save_txt else save_dir).mkdir(parents=True, exist_ok=True)\n",
    "    \n",
    "    save_img = not opt['nosave'] and not source.endswith('.txt')  \n",
    "    \n",
    "    # Initialize\n",
    "    device = select_device(opt['device'])\n",
    "    half = device.type != 'cpu'  # We have CPU/ Expect to get cuda soon\n",
    "    \n",
    "    # Load model\n",
    "    model = attempt_load(weights, map_location=device)  # load FP32 model\n",
    "    stride = int(model.stride.max())  # model stride\n",
    "    imgsz = check_img_size(imgsz, s=stride)  # check img_size\n",
    "    names = model.module.names if hasattr(model, 'module') else model.names  # get class names\n",
    "    \n",
    "#     summary(model,(3, 640,640))\n",
    "    df = receptive_field(model,640)\n",
    "    \n",
    "    \n",
    "    # Set Dataloader\n",
    "    dataset = LoadImages(source, img_size=imgsz, stride=stride)\n",
    "\n",
    "    # Run inference\n",
    "    if device.type != 'cpu':\n",
    "        model(torch.zeros(1, 3, imgsz, imgsz).to(device).type_as(next(model.parameters())))  # run once\n",
    "    \n",
    "    # folder informations and image convertation to numpy\n",
    "    \n",
    "    for path, img, im0s, vid_cap in dataset:\n",
    "        img = torch.from_numpy(img).to(device)\n",
    "        img = img.half() if half else img.float()  \n",
    "        img /= 255.0  # 0 - 255 to 0.0 - 1.0\n",
    "        if img.ndimension() == 3:\n",
    "            img = img.unsqueeze(0)\n",
    "\n",
    "        # Inference\n",
    "        pred = model(img, augment=opt['augment'])[0]\n",
    "        # Apply NMS\n",
    "        pred = non_max_suppression(pred, opt['conf_thres'], opt['iou_thres'], classes=opt['classes'], agnostic=opt['agnostic_nms'])\n",
    "\n",
    "        # Process detections\n",
    "        # Process detections\n",
    "        for i, det in enumerate(pred):  # detections per image\n",
    "            p, s, im0, frame = path, '', im0s.copy(), getattr(dataset, 'frame', 0)\n",
    "            p = Path(p)  # to Path\n",
    "            save_path = str(save_dir / f\"detected_{p.name}\")  # file to be saved in given path inside signify cwd inside exp folder\n",
    "            txt_path = str(save_dir / f\"labels_{p.stem}\") + ('' if dataset.mode == 'image' else f'_{frame}') # img.txt\n",
    "            s += '%gx%g ' % img.shape[2:]  # print string\n",
    "            gn = torch.tensor(im0.shape)[[1, 0, 1, 0]]  # normalization gain whwh\n",
    "            if len(det):\n",
    "                # Rescale boxes from img_size to im0 size\n",
    "                det[:, :4] = scale_coords(img.shape[2:], det[:, :4], im0.shape).round()\n",
    "\n",
    "                # Print results\n",
    "                for c in det[:, -1].unique():\n",
    "                    n = (det[:, -1] == c).sum()  # detections per class\n",
    "                    s += f\"{n} {names[int(c)]}{'s' * (n > 1)}, \"  # add to string\n",
    "\n",
    "                # Write results\n",
    "                for *xyxy, conf, cls in reversed(det):\n",
    "                    if save_txt:  # Write to file\n",
    "                        xywh = (xyxy2xywh(torch.tensor(xyxy).view(1, 4)) / gn).view(-1).tolist()  # normalized xywh\n",
    "                        line = (cls, *xywh, conf) if opt['save_conf'] else (cls, *xywh)  # label format\n",
    "                        with open(txt_path + '.txt', 'a') as f:\n",
    "                            f.write(('%g ' * len(line)).rstrip() % line + '\\n')\n",
    "\n",
    "                    if save_img or opt['save_crop'] or view_img:  # Add bbox to image\n",
    "                        c = int(cls)  # integer class\n",
    "                        label = None if opt['hide_labels'] else (names[c] if opt['hide_conf'] else f'{names[c]} {conf:.2f}')\n",
    "\n",
    "                        plot_one_box(xyxy, im0, label=label, color=colors(c, True), line_thickness=opt['line_thickness'])\n",
    "                        if opt['save_crop']:\n",
    "                            save_one_box(xyxy, im0s, file=save_dir / f\"crops_ {names[c]}{p.stem}.jpg\", BGR=True)\n",
    "\n",
    "            \n",
    "            # Stream results\n",
    "            if view_img:\n",
    "                cv2.imshow(str(p), im0)\n",
    "                cv2.waitKey(1)  # 1 millisecond\n",
    "\n",
    "            # Save results (image with detections)\n",
    "            if save_img:\n",
    "                cv2.imwrite(save_path, im0)\n",
    "    return f\"File generated for {image_path} \""
   ]
  },
  {
   "cell_type": "markdown",
   "id": "f4923a3c-5abc-471a-b375-1fdfbbd1bcf8",
   "metadata": {},
   "source": [
    "### Snipping signature is fun Now"
   ]
  },
  {
   "cell_type": "code",
   "execution_count": 9,
   "id": "08341387-db67-4453-8b56-db3c16cb4325",
   "metadata": {},
   "outputs": [],
   "source": [
    "import os"
   ]
  },
  {
   "cell_type": "code",
   "execution_count": 10,
   "id": "4783ae11-4ff6-4166-94d2-5c7cbfb1b3ac",
   "metadata": {},
   "outputs": [
    {
     "name": "stdout",
     "output_type": "stream",
     "text": [
      "signs/SignEasy\n"
     ]
    },
    {
     "ename": "TypeError",
     "evalue": "Image data of dtype object cannot be converted to float",
     "output_type": "error",
     "traceback": [
      "\u001b[1;31m---------------------------------------------------------------------------\u001b[0m",
      "\u001b[1;31mTypeError\u001b[0m                                 Traceback (most recent call last)",
      "\u001b[1;32m<ipython-input-10-840330da653d>\u001b[0m in \u001b[0;36m<module>\u001b[1;34m\u001b[0m\n\u001b[0;32m      3\u001b[0m     \u001b[0mprint\u001b[0m\u001b[1;33m(\u001b[0m\u001b[0mpath\u001b[0m\u001b[1;33m)\u001b[0m\u001b[1;33m\u001b[0m\u001b[1;33m\u001b[0m\u001b[0m\n\u001b[0;32m      4\u001b[0m     \u001b[0mimg\u001b[0m \u001b[1;33m=\u001b[0m \u001b[0mimg\u001b[0m \u001b[1;33m=\u001b[0m \u001b[0mcv2\u001b[0m\u001b[1;33m.\u001b[0m\u001b[0mimread\u001b[0m\u001b[1;33m(\u001b[0m\u001b[0mpath\u001b[0m\u001b[1;33m)\u001b[0m\u001b[1;33m\u001b[0m\u001b[1;33m\u001b[0m\u001b[0m\n\u001b[1;32m----> 5\u001b[1;33m     \u001b[0m_\u001b[0m \u001b[1;33m=\u001b[0m \u001b[0mplt\u001b[0m\u001b[1;33m.\u001b[0m\u001b[0mimshow\u001b[0m\u001b[1;33m(\u001b[0m\u001b[0mimg\u001b[0m\u001b[1;33m)\u001b[0m\u001b[1;33m\u001b[0m\u001b[1;33m\u001b[0m\u001b[0m\n\u001b[0m\u001b[0;32m      6\u001b[0m     \u001b[0m_\u001b[0m \u001b[1;33m=\u001b[0m \u001b[0mplt\u001b[0m\u001b[1;33m.\u001b[0m\u001b[0mshow\u001b[0m\u001b[1;33m(\u001b[0m\u001b[1;33m)\u001b[0m\u001b[1;33m\u001b[0m\u001b[1;33m\u001b[0m\u001b[0m\n\u001b[0;32m      7\u001b[0m     \u001b[1;31m#detecting here\u001b[0m\u001b[1;33m\u001b[0m\u001b[1;33m\u001b[0m\u001b[1;33m\u001b[0m\u001b[0m\n",
      "\u001b[1;32m~\\Anaconda3\\lib\\site-packages\\matplotlib\\_api\\deprecation.py\u001b[0m in \u001b[0;36mwrapper\u001b[1;34m(*args, **kwargs)\u001b[0m\n\u001b[0;32m    454\u001b[0m                 \u001b[1;34m\"parameter will become keyword-only %(removal)s.\"\u001b[0m\u001b[1;33m,\u001b[0m\u001b[1;33m\u001b[0m\u001b[1;33m\u001b[0m\u001b[0m\n\u001b[0;32m    455\u001b[0m                 name=name, obj_type=f\"parameter of {func.__name__}()\")\n\u001b[1;32m--> 456\u001b[1;33m         \u001b[1;32mreturn\u001b[0m \u001b[0mfunc\u001b[0m\u001b[1;33m(\u001b[0m\u001b[1;33m*\u001b[0m\u001b[0margs\u001b[0m\u001b[1;33m,\u001b[0m \u001b[1;33m**\u001b[0m\u001b[0mkwargs\u001b[0m\u001b[1;33m)\u001b[0m\u001b[1;33m\u001b[0m\u001b[1;33m\u001b[0m\u001b[0m\n\u001b[0m\u001b[0;32m    457\u001b[0m \u001b[1;33m\u001b[0m\u001b[0m\n\u001b[0;32m    458\u001b[0m     \u001b[1;31m# Don't modify *func*'s signature, as boilerplate.py needs it.\u001b[0m\u001b[1;33m\u001b[0m\u001b[1;33m\u001b[0m\u001b[1;33m\u001b[0m\u001b[0m\n",
      "\u001b[1;32m~\\Anaconda3\\lib\\site-packages\\matplotlib\\pyplot.py\u001b[0m in \u001b[0;36mimshow\u001b[1;34m(X, cmap, norm, aspect, interpolation, alpha, vmin, vmax, origin, extent, interpolation_stage, filternorm, filterrad, resample, url, data, **kwargs)\u001b[0m\n\u001b[0;32m   2638\u001b[0m         \u001b[0minterpolation_stage\u001b[0m\u001b[1;33m=\u001b[0m\u001b[1;32mNone\u001b[0m\u001b[1;33m,\u001b[0m \u001b[0mfilternorm\u001b[0m\u001b[1;33m=\u001b[0m\u001b[1;32mTrue\u001b[0m\u001b[1;33m,\u001b[0m \u001b[0mfilterrad\u001b[0m\u001b[1;33m=\u001b[0m\u001b[1;36m4.0\u001b[0m\u001b[1;33m,\u001b[0m\u001b[1;33m\u001b[0m\u001b[1;33m\u001b[0m\u001b[0m\n\u001b[0;32m   2639\u001b[0m         resample=None, url=None, data=None, **kwargs):\n\u001b[1;32m-> 2640\u001b[1;33m     __ret = gca().imshow(\n\u001b[0m\u001b[0;32m   2641\u001b[0m         \u001b[0mX\u001b[0m\u001b[1;33m,\u001b[0m \u001b[0mcmap\u001b[0m\u001b[1;33m=\u001b[0m\u001b[0mcmap\u001b[0m\u001b[1;33m,\u001b[0m \u001b[0mnorm\u001b[0m\u001b[1;33m=\u001b[0m\u001b[0mnorm\u001b[0m\u001b[1;33m,\u001b[0m \u001b[0maspect\u001b[0m\u001b[1;33m=\u001b[0m\u001b[0maspect\u001b[0m\u001b[1;33m,\u001b[0m\u001b[1;33m\u001b[0m\u001b[1;33m\u001b[0m\u001b[0m\n\u001b[0;32m   2642\u001b[0m         \u001b[0minterpolation\u001b[0m\u001b[1;33m=\u001b[0m\u001b[0minterpolation\u001b[0m\u001b[1;33m,\u001b[0m \u001b[0malpha\u001b[0m\u001b[1;33m=\u001b[0m\u001b[0malpha\u001b[0m\u001b[1;33m,\u001b[0m \u001b[0mvmin\u001b[0m\u001b[1;33m=\u001b[0m\u001b[0mvmin\u001b[0m\u001b[1;33m,\u001b[0m\u001b[1;33m\u001b[0m\u001b[1;33m\u001b[0m\u001b[0m\n",
      "\u001b[1;32m~\\Anaconda3\\lib\\site-packages\\matplotlib\\_api\\deprecation.py\u001b[0m in \u001b[0;36mwrapper\u001b[1;34m(*args, **kwargs)\u001b[0m\n\u001b[0;32m    454\u001b[0m                 \u001b[1;34m\"parameter will become keyword-only %(removal)s.\"\u001b[0m\u001b[1;33m,\u001b[0m\u001b[1;33m\u001b[0m\u001b[1;33m\u001b[0m\u001b[0m\n\u001b[0;32m    455\u001b[0m                 name=name, obj_type=f\"parameter of {func.__name__}()\")\n\u001b[1;32m--> 456\u001b[1;33m         \u001b[1;32mreturn\u001b[0m \u001b[0mfunc\u001b[0m\u001b[1;33m(\u001b[0m\u001b[1;33m*\u001b[0m\u001b[0margs\u001b[0m\u001b[1;33m,\u001b[0m \u001b[1;33m**\u001b[0m\u001b[0mkwargs\u001b[0m\u001b[1;33m)\u001b[0m\u001b[1;33m\u001b[0m\u001b[1;33m\u001b[0m\u001b[0m\n\u001b[0m\u001b[0;32m    457\u001b[0m \u001b[1;33m\u001b[0m\u001b[0m\n\u001b[0;32m    458\u001b[0m     \u001b[1;31m# Don't modify *func*'s signature, as boilerplate.py needs it.\u001b[0m\u001b[1;33m\u001b[0m\u001b[1;33m\u001b[0m\u001b[1;33m\u001b[0m\u001b[0m\n",
      "\u001b[1;32m~\\Anaconda3\\lib\\site-packages\\matplotlib\\__init__.py\u001b[0m in \u001b[0;36minner\u001b[1;34m(ax, data, *args, **kwargs)\u001b[0m\n\u001b[0;32m   1410\u001b[0m     \u001b[1;32mdef\u001b[0m \u001b[0minner\u001b[0m\u001b[1;33m(\u001b[0m\u001b[0max\u001b[0m\u001b[1;33m,\u001b[0m \u001b[1;33m*\u001b[0m\u001b[0margs\u001b[0m\u001b[1;33m,\u001b[0m \u001b[0mdata\u001b[0m\u001b[1;33m=\u001b[0m\u001b[1;32mNone\u001b[0m\u001b[1;33m,\u001b[0m \u001b[1;33m**\u001b[0m\u001b[0mkwargs\u001b[0m\u001b[1;33m)\u001b[0m\u001b[1;33m:\u001b[0m\u001b[1;33m\u001b[0m\u001b[1;33m\u001b[0m\u001b[0m\n\u001b[0;32m   1411\u001b[0m         \u001b[1;32mif\u001b[0m \u001b[0mdata\u001b[0m \u001b[1;32mis\u001b[0m \u001b[1;32mNone\u001b[0m\u001b[1;33m:\u001b[0m\u001b[1;33m\u001b[0m\u001b[1;33m\u001b[0m\u001b[0m\n\u001b[1;32m-> 1412\u001b[1;33m             \u001b[1;32mreturn\u001b[0m \u001b[0mfunc\u001b[0m\u001b[1;33m(\u001b[0m\u001b[0max\u001b[0m\u001b[1;33m,\u001b[0m \u001b[1;33m*\u001b[0m\u001b[0mmap\u001b[0m\u001b[1;33m(\u001b[0m\u001b[0msanitize_sequence\u001b[0m\u001b[1;33m,\u001b[0m \u001b[0margs\u001b[0m\u001b[1;33m)\u001b[0m\u001b[1;33m,\u001b[0m \u001b[1;33m**\u001b[0m\u001b[0mkwargs\u001b[0m\u001b[1;33m)\u001b[0m\u001b[1;33m\u001b[0m\u001b[1;33m\u001b[0m\u001b[0m\n\u001b[0m\u001b[0;32m   1413\u001b[0m \u001b[1;33m\u001b[0m\u001b[0m\n\u001b[0;32m   1414\u001b[0m         \u001b[0mbound\u001b[0m \u001b[1;33m=\u001b[0m \u001b[0mnew_sig\u001b[0m\u001b[1;33m.\u001b[0m\u001b[0mbind\u001b[0m\u001b[1;33m(\u001b[0m\u001b[0max\u001b[0m\u001b[1;33m,\u001b[0m \u001b[1;33m*\u001b[0m\u001b[0margs\u001b[0m\u001b[1;33m,\u001b[0m \u001b[1;33m**\u001b[0m\u001b[0mkwargs\u001b[0m\u001b[1;33m)\u001b[0m\u001b[1;33m\u001b[0m\u001b[1;33m\u001b[0m\u001b[0m\n",
      "\u001b[1;32m~\\Anaconda3\\lib\\site-packages\\matplotlib\\axes\\_axes.py\u001b[0m in \u001b[0;36mimshow\u001b[1;34m(self, X, cmap, norm, aspect, interpolation, alpha, vmin, vmax, origin, extent, interpolation_stage, filternorm, filterrad, resample, url, **kwargs)\u001b[0m\n\u001b[0;32m   5486\u001b[0m                               **kwargs)\n\u001b[0;32m   5487\u001b[0m \u001b[1;33m\u001b[0m\u001b[0m\n\u001b[1;32m-> 5488\u001b[1;33m         \u001b[0mim\u001b[0m\u001b[1;33m.\u001b[0m\u001b[0mset_data\u001b[0m\u001b[1;33m(\u001b[0m\u001b[0mX\u001b[0m\u001b[1;33m)\u001b[0m\u001b[1;33m\u001b[0m\u001b[1;33m\u001b[0m\u001b[0m\n\u001b[0m\u001b[0;32m   5489\u001b[0m         \u001b[0mim\u001b[0m\u001b[1;33m.\u001b[0m\u001b[0mset_alpha\u001b[0m\u001b[1;33m(\u001b[0m\u001b[0malpha\u001b[0m\u001b[1;33m)\u001b[0m\u001b[1;33m\u001b[0m\u001b[1;33m\u001b[0m\u001b[0m\n\u001b[0;32m   5490\u001b[0m         \u001b[1;32mif\u001b[0m \u001b[0mim\u001b[0m\u001b[1;33m.\u001b[0m\u001b[0mget_clip_path\u001b[0m\u001b[1;33m(\u001b[0m\u001b[1;33m)\u001b[0m \u001b[1;32mis\u001b[0m \u001b[1;32mNone\u001b[0m\u001b[1;33m:\u001b[0m\u001b[1;33m\u001b[0m\u001b[1;33m\u001b[0m\u001b[0m\n",
      "\u001b[1;32m~\\Anaconda3\\lib\\site-packages\\matplotlib\\image.py\u001b[0m in \u001b[0;36mset_data\u001b[1;34m(self, A)\u001b[0m\n\u001b[0;32m    704\u001b[0m         if (self._A.dtype != np.uint8 and\n\u001b[0;32m    705\u001b[0m                 not np.can_cast(self._A.dtype, float, \"same_kind\")):\n\u001b[1;32m--> 706\u001b[1;33m             raise TypeError(\"Image data of dtype {} cannot be converted to \"\n\u001b[0m\u001b[0;32m    707\u001b[0m                             \"float\".format(self._A.dtype))\n\u001b[0;32m    708\u001b[0m \u001b[1;33m\u001b[0m\u001b[0m\n",
      "\u001b[1;31mTypeError\u001b[0m: Image data of dtype object cannot be converted to float"
     ]
    },
    {
     "data": {
      "image/png": "[encoded data removed]",
      "text/plain": [
       "<Figure size 432x288 with 1 Axes>"
      ]
     },
     "metadata": {
      "needs_background": "light"
     },
     "output_type": "display_data"
    }
   ],
   "source": [
    "for i in os.listdir(\"signs/\"):\n",
    "    path = \"signs/\"+i\n",
    "    print(path)\n",
    "    img = img = cv2.imread(path)\n",
    "    _ = plt.imshow(img)\n",
    "    _ = plt.show()\n",
    "    #detecting here \n",
    "    a = detect(path)\n",
    "    op_path = path.split('/')[0] + \"/\"+ path.split('/')[1].split('.')[0] +\"/\""
   ]
  },
  {
   "cell_type": "code",
   "execution_count": null,
   "id": "1315c334-5f71-4ab9-b1ff-d63f505d1e5f",
   "metadata": {},
   "outputs": [],
   "source": [
    "op_path"
   ]
  },
  {
   "cell_type": "code",
   "execution_count": null,
   "id": "ef6e3dbe-839b-4c97-9031-5c6fff1cac97",
   "metadata": {},
   "outputs": [],
   "source": [
    "from skimage import io"
   ]
  },
  {
   "cell_type": "code",
   "execution_count": null,
   "id": "bce99139-d2d3-4ca7-94b1-2b5f10f03488",
   "metadata": {},
   "outputs": [],
   "source": [
    "for i in os.listdir(op_path):\n",
    "    f =op_path+i\n",
    "    img = cv2.imread(f)\n",
    "    _ = plt.imshow(img)\n",
    "    _ = plt.title(str(i))\n",
    "    _ = plt.show()\n",
    "    "
   ]
  },
  {
   "cell_type": "code",
   "execution_count": null,
   "id": "68cc58f9-8fe9-4d9c-942a-f26ec17d847d",
   "metadata": {},
   "outputs": [],
   "source": []
  }
 ],
 "metadata": {
  "kernelspec": {
   "display_name": "Python 3",
   "language": "python",
   "name": "python3"
  },
  "language_info": {
   "codemirror_mode": {
    "name": "ipython",
    "version": 3
   },
   "file_extension": ".py",
   "mimetype": "text/x-python",
   "name": "python",
   "nbconvert_exporter": "python",
   "pygments_lexer": "ipython3",
   "version": "3.8.8"
  }
 },
 "nbformat": 4,
 "nbformat_minor": 5
}
